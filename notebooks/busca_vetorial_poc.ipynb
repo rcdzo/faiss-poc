{
 "cells": [
  {
   "cell_type": "markdown",
   "id": "28f5393b",
   "metadata": {},
   "source": [
    "# POC: Busca Vetorial para Enriquecimento de Endereços DNE\n",
    "\n",
    "Este notebook implementa e valida a busca vetorial multi-campo com pesos dinâmicos para resolver o problema de scores irreais quando campos estão vazios ou imprecisos.\n",
    "\n",
    "## Objetivos\n",
    "1. Construir índices FAISS por campo (logradouro, bairro, cidade)\n",
    "2. Implementar busca com scoring dinâmico\n",
    "3. Validar precisão em cenários com CEP errado, abreviações, typos e campos vazios\n",
    "4. Comparar abordagem multi-campo vs monolítica"
   ]
  },
  {
   "cell_type": "code",
   "execution_count": 5,
   "id": "d332e5fb",
   "metadata": {},
   "outputs": [],
   "source": [
    "import sys\n",
    "sys.path.append('..')\n",
    "\n",
    "import pandas as pd\n",
    "import json\n",
    "from pathlib import Path\n",
    "from src.embedding_service import EmbeddingService\n",
    "from src.index_builder import IndexBuilder\n",
    "from src.search_engine import SearchEngine"
   ]
  },
  {
   "cell_type": "markdown",
   "id": "8cdd58b6",
   "metadata": {},
   "source": [
    "## 1. Carregar Dados"
   ]
  },
  {
   "cell_type": "code",
   "execution_count": 6,
   "id": "27c8fe24",
   "metadata": {},
   "outputs": [
    {
     "name": "stdout",
     "output_type": "stream",
     "text": [
      "Dataset DNE: 10000 registros\n",
      "Queries de teste: 150 queries\n",
      "\n",
      "Distribuição de queries por categoria:\n",
      "category\n",
      "abbreviation    60\n",
      "cep_wrong       45\n",
      "typo            30\n",
      "empty_fields    15\n",
      "Name: count, dtype: int64\n"
     ]
    }
   ],
   "source": [
    "# Carregar dataset DNE\n",
    "data_path = Path('../data')\n",
    "df_dne = pd.read_parquet(data_path / 'dne_sample.parquet')\n",
    "df_queries = pd.read_parquet(data_path / 'test_queries.parquet')\n",
    "\n",
    "print(f\"Dataset DNE: {len(df_dne)} registros\")\n",
    "print(f\"Queries de teste: {len(df_queries)} queries\")\n",
    "print(f\"\\nDistribuição de queries por categoria:\")\n",
    "print(df_queries['category'].value_counts())"
   ]
  },
  {
   "cell_type": "markdown",
   "id": "bb4cbc15",
   "metadata": {},
   "source": [
    "## 2. Inicializar Serviços e Construir Índices"
   ]
  },
  {
   "cell_type": "code",
   "execution_count": 7,
   "id": "88facf5a",
   "metadata": {},
   "outputs": [
    {
     "name": "stderr",
     "output_type": "stream",
     "text": [
      "No sentence-transformers model found with name neuralmind/bert-base-portuguese-cased. Creating a new one with mean pooling.\n"
     ]
    },
    {
     "name": "stdout",
     "output_type": "stream",
     "text": [
      "Carregando modelo de embeddings: neuralmind/bert-base-portuguese-cased\n"
     ]
    },
    {
     "data": {
      "application/vnd.jupyter.widget-view+json": {
       "model_id": "b81f2e9e3f934cd2b89648f43dee4d96",
       "version_major": 2,
       "version_minor": 0
      },
      "text/plain": [
       "config.json:   0%|          | 0.00/647 [00:00<?, ?B/s]"
      ]
     },
     "metadata": {},
     "output_type": "display_data"
    },
    {
     "name": "stderr",
     "output_type": "stream",
     "text": [
      "c:\\Users\\rik_d\\OneDrive\\Documentos\\Projetos\\Backend\\IA\\genia\\venv\\Lib\\site-packages\\huggingface_hub\\file_download.py:143: UserWarning: `huggingface_hub` cache-system uses symlinks by default to efficiently store duplicated files but your machine does not support them in C:\\Users\\rik_d\\.cache\\huggingface\\hub\\models--neuralmind--bert-base-portuguese-cased. Caching files will still work but in a degraded version that might require more space on your disk. This warning can be disabled by setting the `HF_HUB_DISABLE_SYMLINKS_WARNING` environment variable. For more details, see https://huggingface.co/docs/huggingface_hub/how-to-cache#limitations.\n",
      "To support symlinks on Windows, you either need to activate Developer Mode or to run Python as an administrator. In order to activate developer mode, see this article: https://docs.microsoft.com/en-us/windows/apps/get-started/enable-your-device-for-development\n",
      "  warnings.warn(message)\n",
      "Xet Storage is enabled for this repo, but the 'hf_xet' package is not installed. Falling back to regular HTTP download. For better performance, install the package with: `pip install huggingface_hub[hf_xet]` or `pip install hf_xet`\n",
      "Xet Storage is enabled for this repo, but the 'hf_xet' package is not installed. Falling back to regular HTTP download. For better performance, install the package with: `pip install huggingface_hub[hf_xet]` or `pip install hf_xet`\n"
     ]
    },
    {
     "data": {
      "application/vnd.jupyter.widget-view+json": {
       "model_id": "6c1b0052e9094c0da79fa5b29ebf3a76",
       "version_major": 2,
       "version_minor": 0
      },
      "text/plain": [
       "pytorch_model.bin:   0%|          | 0.00/438M [00:00<?, ?B/s]"
      ]
     },
     "metadata": {},
     "output_type": "display_data"
    },
    {
     "data": {
      "application/vnd.jupyter.widget-view+json": {
       "model_id": "54d34251e7a94555be217a4cefd8a2cf",
       "version_major": 2,
       "version_minor": 0
      },
      "text/plain": [
       "tokenizer_config.json:   0%|          | 0.00/43.0 [00:00<?, ?B/s]"
      ]
     },
     "metadata": {},
     "output_type": "display_data"
    },
    {
     "data": {
      "application/vnd.jupyter.widget-view+json": {
       "model_id": "ff0847bdc29e435e86fd048fe6b13dd7",
       "version_major": 2,
       "version_minor": 0
      },
      "text/plain": [
       "vocab.txt: 0.00B [00:00, ?B/s]"
      ]
     },
     "metadata": {},
     "output_type": "display_data"
    },
    {
     "data": {
      "application/vnd.jupyter.widget-view+json": {
       "model_id": "98bd23e9ac2a405baaa71d36a841ee71",
       "version_major": 2,
       "version_minor": 0
      },
      "text/plain": [
       "added_tokens.json:   0%|          | 0.00/2.00 [00:00<?, ?B/s]"
      ]
     },
     "metadata": {},
     "output_type": "display_data"
    },
    {
     "name": "stderr",
     "output_type": "stream",
     "text": [
      "Xet Storage is enabled for this repo, but the 'hf_xet' package is not installed. Falling back to regular HTTP download. For better performance, install the package with: `pip install huggingface_hub[hf_xet]` or `pip install hf_xet`\n"
     ]
    },
    {
     "data": {
      "application/vnd.jupyter.widget-view+json": {
       "model_id": "cf9483deaaf7405ba4d8820dba4f59c8",
       "version_major": 2,
       "version_minor": 0
      },
      "text/plain": [
       "special_tokens_map.json:   0%|          | 0.00/112 [00:00<?, ?B/s]"
      ]
     },
     "metadata": {},
     "output_type": "display_data"
    },
    {
     "name": "stderr",
     "output_type": "stream",
     "text": [
      "Exception ignored in: <function tqdm.__del__ at 0x0000018236052340>\n",
      "Traceback (most recent call last):\n",
      "  File \"c:\\Users\\rik_d\\OneDrive\\Documentos\\Projetos\\Backend\\IA\\genia\\venv\\Lib\\site-packages\\tqdm\\std.py\", line 1148, in __del__\n",
      "    self.close()\n",
      "  File \"c:\\Users\\rik_d\\OneDrive\\Documentos\\Projetos\\Backend\\IA\\genia\\venv\\Lib\\site-packages\\tqdm\\notebook.py\", line 279, in close\n",
      "    self.disp(bar_style='danger', check_delay=False)\n",
      "    ^^^^^^^^^\n",
      "AttributeError: 'tqdm' object has no attribute 'disp'\n"
     ]
    }
   ],
   "source": [
    "# Inicializa serviço de embeddings com modelo neuralmind\n",
    "embedding_service = EmbeddingService(model_name=\"neuralmind/bert-base-portuguese-cased\")"
   ]
  },
  {
   "cell_type": "code",
   "execution_count": 8,
   "id": "2a840f60",
   "metadata": {},
   "outputs": [
    {
     "name": "stdout",
     "output_type": "stream",
     "text": [
      "Construindo índices FAISS para 10000 endereços\n"
     ]
    },
    {
     "data": {
      "application/vnd.jupyter.widget-view+json": {
       "model_id": "1c561f6ebfe74516a97f36d706dfb5c8",
       "version_major": 2,
       "version_minor": 0
      },
      "text/plain": [
       "Batches:   0%|          | 0/313 [00:00<?, ?it/s]"
      ]
     },
     "metadata": {},
     "output_type": "display_data"
    },
    {
     "data": {
      "application/vnd.jupyter.widget-view+json": {
       "model_id": "c112f2753d1e4fd084363fab8aa5f491",
       "version_major": 2,
       "version_minor": 0
      },
      "text/plain": [
       "Batches:   0%|          | 0/313 [00:00<?, ?it/s]"
      ]
     },
     "metadata": {},
     "output_type": "display_data"
    },
    {
     "data": {
      "application/vnd.jupyter.widget-view+json": {
       "model_id": "9de5bacead8c4d03a34b9e0cba546258",
       "version_major": 2,
       "version_minor": 0
      },
      "text/plain": [
       "Batches:   0%|          | 0/313 [00:00<?, ?it/s]"
      ]
     },
     "metadata": {},
     "output_type": "display_data"
    }
   ],
   "source": [
    "# Constrói índices FAISS\n",
    "index_builder = IndexBuilder(embedding_service)\n",
    "indices = index_builder.build_indices(df_dne)"
   ]
  },
  {
   "cell_type": "code",
   "execution_count": 9,
   "id": "affc5e86",
   "metadata": {},
   "outputs": [
    {
     "name": "stdout",
     "output_type": "stream",
     "text": [
      "\n",
      "Índices salvos em: ..\\data\\indices\n"
     ]
    }
   ],
   "source": [
    "# Salva índices para reutilização\n",
    "indices_path = data_path / 'indices'\n",
    "index_builder.save_indices(str(indices_path))\n",
    "print(f\"\\nÍndices salvos em: {indices_path}\")"
   ]
  },
  {
   "cell_type": "markdown",
   "id": "bd794744",
   "metadata": {},
   "source": [
    "## 3. Inicializar Motor de Busca"
   ]
  },
  {
   "cell_type": "code",
   "execution_count": 10,
   "id": "2aa519e1",
   "metadata": {},
   "outputs": [
    {
     "name": "stdout",
     "output_type": "stream",
     "text": [
      "Motor de busca inicializado\n",
      "Threshold de confiança alta: 0.8\n"
     ]
    }
   ],
   "source": [
    "# Inicializa motor de busca\n",
    "search_engine = SearchEngine(\n",
    "    embedding_service=embedding_service,\n",
    "    indices=indices,\n",
    "    dataframe=df_dne\n",
    ")\n",
    "\n",
    "print(\"Motor de busca inicializado\")\n",
    "print(f\"Threshold de confiança alta: {search_engine.confidence_threshold}\")"
   ]
  },
  {
   "cell_type": "markdown",
   "id": "e753532b",
   "metadata": {},
   "source": [
    "## 4. Testes Exploratórios"
   ]
  },
  {
   "cell_type": "code",
   "execution_count": 11,
   "id": "e7fb0c1e",
   "metadata": {},
   "outputs": [
    {
     "name": "stdout",
     "output_type": "stream",
     "text": [
      "=== Teste 1: Query Limpa (Baseline) ===\n",
      "Query: {'logradouro': 'Estrada Paraná', 'bairro': 'Vila Industrial', 'cidade': 'Itabuna', 'uf': 'BA', 'cep': '40224-644'}\n",
      "\n",
      "{\n",
      "  \"results\": [\n",
      "    {\n",
      "      \"address\": {\n",
      "        \"logradouro\": \"Estrada Paraná\",\n",
      "        \"bairro\": \"Vila Industrial\",\n",
      "        \"cidade\": \"Itabuna\",\n",
      "        \"uf\": \"BA\",\n",
      "        \"cep\": \"40224-644\"\n",
      "      },\n",
      "      \"score\": 1.0,\n",
      "      \"confidence\": \"high\",\n",
      "      \"field_scores\": {\n",
      "        \"logradouro\": 1.0,\n",
      "        \"bairro\": 1.0,\n",
      "        \"cidade\": 1.0,\n",
      "        \"cep\": 1.0\n",
      "      }\n",
      "    },\n",
      "    {\n",
      "      \"address\": {\n",
      "        \"logradouro\": \"Estrada Paraná\",\n",
      "        \"bairro\": \"Parque Industrial\",\n",
      "        \"cidade\": \"Montes Claros\",\n",
      "        \"uf\": \"MG\",\n",
      "        \"cep\": \"30224-024\"\n",
      "      },\n",
      "      \"score\": 0.4000000059604645,\n",
      "      \"confidence\": \"low\",\n",
      "      \"field_scores\": {\n",
      "        \"logradouro\": 1.0,\n",
      "        \"cep\": 0.0\n",
      "      }\n",
      "    },\n",
      "    {\n",
      "      \"address\": {\n",
      "        \"logradouro\": \"Estrada Paraná\",\n",
      "        \"bairro\": \"Parque Oeste\",\n",
      "        \"cidade\": \"Criciúma\",\n",
      "        \"uf\": \"SC\",\n",
      "        \"cep\": \"88229-362\"\n",
      "      },\n",
      "      \"score\": 0.4000000059604645,\n",
      "      \"confidence\": \"low\",\n",
      "      \"field_scores\": {\n",
      "        \"logradouro\": 1.0,\n",
      "        \"cep\": 0.0\n",
      "      }\n",
      "    }\n",
      "  ],\n",
      "  \"query\": {\n",
      "    \"logradouro\": \"Estrada Paraná\",\n",
      "    \"bairro\": \"Vila Industrial\",\n",
      "    \"cidade\": \"Itabuna\",\n",
      "    \"uf\": \"BA\",\n",
      "    \"cep\": \"40224-644\"\n",
      "  },\n",
      "  \"total_found\": 3,\n",
      "  \"weights_used\": {\n",
      "    \"cep\": 0.3,\n",
      "    \"logradouro\": 0.4,\n",
      "    \"bairro\": 0.2,\n",
      "    \"cidade\": 0.1\n",
      "  }\n",
      "}\n"
     ]
    }
   ],
   "source": [
    "# Teste 1: Query limpa (baseline)\n",
    "sample = df_dne.iloc[100]\n",
    "query = {\n",
    "    'logradouro': sample['logradouro'],\n",
    "    'bairro': sample['bairro'],\n",
    "    'cidade': sample['cidade'],\n",
    "    'uf': sample['uf'],\n",
    "    'cep': sample['cep']\n",
    "}\n",
    "\n",
    "print(\"=== Teste 1: Query Limpa (Baseline) ===\")\n",
    "print(f\"Query: {query}\\n\")\n",
    "result = search_engine.search(query, top_k=3)\n",
    "print(json.dumps(json.loads(result), indent=2, ensure_ascii=False))"
   ]
  },
  {
   "cell_type": "code",
   "execution_count": 12,
   "id": "9d581b69",
   "metadata": {},
   "outputs": [
    {
     "name": "stdout",
     "output_type": "stream",
     "text": [
      "\n",
      "=== Teste 2: CEP Errado ===\n",
      "Query: {'logradouro': 'Estrada Paraná', 'bairro': 'Vila Industrial', 'cidade': 'Itabuna', 'uf': 'BA', 'cep': '20000-000'}\n",
      "\n",
      "{\n",
      "  \"results\": [\n",
      "    {\n",
      "      \"address\": {\n",
      "        \"logradouro\": \"Estrada Paraná\",\n",
      "        \"bairro\": \"Vila Industrial\",\n",
      "        \"cidade\": \"Itabuna\",\n",
      "        \"uf\": \"BA\",\n",
      "        \"cep\": \"40224-644\"\n",
      "      },\n",
      "      \"score\": 0.7000000476837158,\n",
      "      \"confidence\": \"medium\",\n",
      "      \"field_scores\": {\n",
      "        \"logradouro\": 1.0,\n",
      "        \"bairro\": 1.0,\n",
      "        \"cidade\": 1.0,\n",
      "        \"cep\": 0.0\n",
      "      }\n",
      "    },\n",
      "    {\n",
      "      \"address\": {\n",
      "        \"logradouro\": \"Estrada Paraná\",\n",
      "        \"bairro\": \"Parque Industrial\",\n",
      "        \"cidade\": \"Montes Claros\",\n",
      "        \"uf\": \"MG\",\n",
      "        \"cep\": \"30224-024\"\n",
      "      },\n",
      "      \"score\": 0.4000000059604645,\n",
      "      \"confidence\": \"low\",\n",
      "      \"field_scores\": {\n",
      "        \"logradouro\": 1.0,\n",
      "        \"cep\": 0.0\n",
      "      }\n",
      "    },\n",
      "    {\n",
      "      \"address\": {\n",
      "        \"logradouro\": \"Estrada Paraná\",\n",
      "        \"bairro\": \"Parque Oeste\",\n",
      "        \"cidade\": \"Criciúma\",\n",
      "        \"uf\": \"SC\",\n",
      "        \"cep\": \"88229-362\"\n",
      "      },\n",
      "      \"score\": 0.4000000059604645,\n",
      "      \"confidence\": \"low\",\n",
      "      \"field_scores\": {\n",
      "        \"logradouro\": 1.0,\n",
      "        \"cep\": 0.0\n",
      "      }\n",
      "    }\n",
      "  ],\n",
      "  \"query\": {\n",
      "    \"logradouro\": \"Estrada Paraná\",\n",
      "    \"bairro\": \"Vila Industrial\",\n",
      "    \"cidade\": \"Itabuna\",\n",
      "    \"uf\": \"BA\",\n",
      "    \"cep\": \"20000-000\"\n",
      "  },\n",
      "  \"total_found\": 3,\n",
      "  \"weights_used\": {\n",
      "    \"cep\": 0.3,\n",
      "    \"logradouro\": 0.4,\n",
      "    \"bairro\": 0.2,\n",
      "    \"cidade\": 0.1\n",
      "  }\n",
      "}\n"
     ]
    }
   ],
   "source": [
    "# Teste 2: CEP errado mas rua/bairro corretos\n",
    "query_cep_wrong = query.copy()\n",
    "query_cep_wrong['cep'] = '20000-000'  # CEP do RJ (se original não for RJ)\n",
    "\n",
    "print(\"\\n=== Teste 2: CEP Errado ===\")\n",
    "print(f\"Query: {query_cep_wrong}\\n\")\n",
    "result = search_engine.search(query_cep_wrong, top_k=3)\n",
    "print(json.dumps(json.loads(result), indent=2, ensure_ascii=False))"
   ]
  },
  {
   "cell_type": "code",
   "execution_count": 13,
   "id": "92119759",
   "metadata": {},
   "outputs": [
    {
     "name": "stdout",
     "output_type": "stream",
     "text": [
      "\n",
      "=== Teste 3: Campos Vazios (só bairro + cidade) ===\n",
      "Query: {'logradouro': '', 'bairro': 'Vila Industrial', 'cidade': 'Itabuna', 'uf': 'BA', 'cep': ''}\n",
      "\n",
      "{\n",
      "  \"results\": [\n",
      "    {\n",
      "      \"address\": {\n",
      "        \"logradouro\": \"Estrada Paraná\",\n",
      "        \"bairro\": \"Vila Industrial\",\n",
      "        \"cidade\": \"Itabuna\",\n",
      "        \"uf\": \"BA\",\n",
      "        \"cep\": \"40224-644\"\n",
      "      },\n",
      "      \"score\": 1.0,\n",
      "      \"confidence\": \"high\",\n",
      "      \"field_scores\": {\n",
      "        \"bairro\": 1.0,\n",
      "        \"cidade\": 1.0\n",
      "      }\n",
      "    },\n",
      "    {\n",
      "      \"address\": {\n",
      "        \"logradouro\": \"Rodovia do Sol\",\n",
      "        \"bairro\": \"Vila Industrial\",\n",
      "        \"cidade\": \"Itabuna\",\n",
      "        \"uf\": \"BA\",\n",
      "        \"cep\": \"40812-062\"\n",
      "      },\n",
      "      \"score\": 1.0,\n",
      "      \"confidence\": \"high\",\n",
      "      \"field_scores\": {\n",
      "        \"bairro\": 1.0,\n",
      "        \"cidade\": 1.0\n",
      "      }\n",
      "    },\n",
      "    {\n",
      "      \"address\": {\n",
      "        \"logradouro\": \"Rodovia ePdro Álvares Cabral\",\n",
      "        \"bairro\": \"Vila Industrial\",\n",
      "        \"cidade\": \"Itabuna\",\n",
      "        \"uf\": \"BA\",\n",
      "        \"cep\": \"40652-773\"\n",
      "      },\n",
      "      \"score\": 1.0,\n",
      "      \"confidence\": \"high\",\n",
      "      \"field_scores\": {\n",
      "        \"bairro\": 1.0,\n",
      "        \"cidade\": 1.0\n",
      "      }\n",
      "    },\n",
      "    {\n",
      "      \"address\": {\n",
      "        \"logradouro\": \"Alameda Santos Dumont\",\n",
      "        \"bairro\": \"Vila Industrial\",\n",
      "        \"cidade\": \"São Paulo\",\n",
      "        \"uf\": \"SP\",\n",
      "        \"cep\": \"01226-906\"\n",
      "      },\n",
      "      \"score\": 0.5555555820465088,\n",
      "      \"confidence\": \"low\",\n",
      "      \"field_scores\": {\n",
      "        \"bairro\": 1.0\n",
      "      }\n",
      "    },\n",
      "    {\n",
      "      \"address\": {\n",
      "        \"logradouro\": \"Alam. Paulista\",\n",
      "        \"bairro\": \"Vl. Industrial\",\n",
      "        \"cidade\": \"São José dos Campos\",\n",
      "        \"uf\": \"SP\",\n",
      "        \"cep\": \"01539-994\"\n",
      "      },\n",
      "      \"score\": 0.5555555820465088,\n",
      "      \"confidence\": \"low\",\n",
      "      \"field_scores\": {\n",
      "        \"bairro\": 1.0\n",
      "      }\n",
      "    }\n",
      "  ],\n",
      "  \"query\": {\n",
      "    \"logradouro\": \"\",\n",
      "    \"bairro\": \"Vila Industrial\",\n",
      "    \"cidade\": \"Itabuna\",\n",
      "    \"uf\": \"BA\",\n",
      "    \"cep\": \"\"\n",
      "  },\n",
      "  \"total_found\": 5,\n",
      "  \"weights_used\": {\n",
      "    \"bairro\": 0.5555555555555556,\n",
      "    \"cidade\": 0.4444444444444445\n",
      "  }\n",
      "}\n"
     ]
    }
   ],
   "source": [
    "# Teste 3: Apenas bairro e cidade (campos vazios)\n",
    "query_partial = {\n",
    "    'logradouro': '',\n",
    "    'bairro': sample['bairro'],\n",
    "    'cidade': sample['cidade'],\n",
    "    'uf': sample['uf'],\n",
    "    'cep': ''\n",
    "}\n",
    "\n",
    "print(\"\\n=== Teste 3: Campos Vazios (só bairro + cidade) ===\")\n",
    "print(f\"Query: {query_partial}\\n\")\n",
    "result = search_engine.search(query_partial, top_k=5)\n",
    "print(json.dumps(json.loads(result), indent=2, ensure_ascii=False))"
   ]
  },
  {
   "cell_type": "code",
   "execution_count": 14,
   "id": "1bf810fe",
   "metadata": {},
   "outputs": [
    {
     "name": "stdout",
     "output_type": "stream",
     "text": [
      "\n",
      "=== Teste 4: Abreviações ===\n",
      "Query: {'logradouro': 'Estrada Paraná', 'bairro': 'Vila Industrial', 'cidade': 'Itabuna', 'uf': 'BA', 'cep': '40224-644'}\n",
      "\n",
      "{\n",
      "  \"results\": [\n",
      "    {\n",
      "      \"address\": {\n",
      "        \"logradouro\": \"Estrada Paraná\",\n",
      "        \"bairro\": \"Vila Industrial\",\n",
      "        \"cidade\": \"Itabuna\",\n",
      "        \"uf\": \"BA\",\n",
      "        \"cep\": \"40224-644\"\n",
      "      },\n",
      "      \"score\": 1.0,\n",
      "      \"confidence\": \"high\",\n",
      "      \"field_scores\": {\n",
      "        \"logradouro\": 1.0,\n",
      "        \"bairro\": 1.0,\n",
      "        \"cidade\": 1.0,\n",
      "        \"cep\": 1.0\n",
      "      }\n",
      "    },\n",
      "    {\n",
      "      \"address\": {\n",
      "        \"logradouro\": \"Estrada Paraná\",\n",
      "        \"bairro\": \"Parque Industrial\",\n",
      "        \"cidade\": \"Montes Claros\",\n",
      "        \"uf\": \"MG\",\n",
      "        \"cep\": \"30224-024\"\n",
      "      },\n",
      "      \"score\": 0.4000000059604645,\n",
      "      \"confidence\": \"low\",\n",
      "      \"field_scores\": {\n",
      "        \"logradouro\": 1.0,\n",
      "        \"cep\": 0.0\n",
      "      }\n",
      "    },\n",
      "    {\n",
      "      \"address\": {\n",
      "        \"logradouro\": \"Estrada Paraná\",\n",
      "        \"bairro\": \"Parque Oeste\",\n",
      "        \"cidade\": \"Criciúma\",\n",
      "        \"uf\": \"SC\",\n",
      "        \"cep\": \"88229-362\"\n",
      "      },\n",
      "      \"score\": 0.4000000059604645,\n",
      "      \"confidence\": \"low\",\n",
      "      \"field_scores\": {\n",
      "        \"logradouro\": 1.0,\n",
      "        \"cep\": 0.0\n",
      "      }\n",
      "    }\n",
      "  ],\n",
      "  \"query\": {\n",
      "    \"logradouro\": \"Estrada Paraná\",\n",
      "    \"bairro\": \"Vila Industrial\",\n",
      "    \"cidade\": \"Itabuna\",\n",
      "    \"uf\": \"BA\",\n",
      "    \"cep\": \"40224-644\"\n",
      "  },\n",
      "  \"total_found\": 3,\n",
      "  \"weights_used\": {\n",
      "    \"cep\": 0.3,\n",
      "    \"logradouro\": 0.4,\n",
      "    \"bairro\": 0.2,\n",
      "    \"cidade\": 0.1\n",
      "  }\n",
      "}\n"
     ]
    }
   ],
   "source": [
    "# Teste 4: Com abreviações\n",
    "query_abbr = query.copy()\n",
    "if query_abbr['logradouro'].startswith('Rua'):\n",
    "    query_abbr['logradouro'] = query_abbr['logradouro'].replace('Rua', 'R.', 1)\n",
    "elif query_abbr['logradouro'].startswith('Avenida'):\n",
    "    query_abbr['logradouro'] = query_abbr['logradouro'].replace('Avenida', 'Av.', 1)\n",
    "\n",
    "print(\"\\n=== Teste 4: Abreviações ===\")\n",
    "print(f\"Query: {query_abbr}\\n\")\n",
    "result = search_engine.search(query_abbr, top_k=3)\n",
    "print(json.dumps(json.loads(result), indent=2, ensure_ascii=False))"
   ]
  },
  {
   "cell_type": "markdown",
   "id": "3f187e32",
   "metadata": {},
   "source": [
    "## 5. Validação Sistemática por Categoria"
   ]
  },
  {
   "cell_type": "code",
   "execution_count": 15,
   "id": "8edba654",
   "metadata": {},
   "outputs": [],
   "source": [
    "def evaluate_queries(queries_df, search_engine, top_k=5):\n",
    "    \"\"\"Avalia precisão das queries\"\"\"\n",
    "    results = []\n",
    "    \n",
    "    for idx, row in queries_df.iterrows():\n",
    "        query = {\n",
    "            'logradouro': row['logradouro'],\n",
    "            'bairro': row['bairro'],\n",
    "            'cidade': row['cidade'],\n",
    "            'uf': row['uf'],\n",
    "            'cep': row['cep']\n",
    "        }\n",
    "        \n",
    "        # Busca\n",
    "        result_json = search_engine.search(query, top_k=top_k)\n",
    "        result = json.loads(result_json)\n",
    "        \n",
    "        # Verifica se o endereço esperado está nos resultados\n",
    "        expected_idx = row['expected_index']\n",
    "        expected_address = df_dne.iloc[expected_idx]\n",
    "        \n",
    "        found = False\n",
    "        rank = -1\n",
    "        best_score = 0.0\n",
    "        \n",
    "        for i, res in enumerate(result['results']):\n",
    "            score = res['score']\n",
    "            if score > best_score:\n",
    "                best_score = score\n",
    "            \n",
    "            # Verifica match (comparando campos principais)\n",
    "            addr = res['address']\n",
    "            if (addr['logradouro'] == expected_address['logradouro'] and\n",
    "                addr['cidade'] == expected_address['cidade'] and\n",
    "                addr['cep'] == expected_address['cep']):\n",
    "                found = True\n",
    "                rank = i + 1\n",
    "                break\n",
    "        \n",
    "        results.append({\n",
    "            'category': row['category'],\n",
    "            'found': found,\n",
    "            'rank': rank,\n",
    "            'best_score': best_score,\n",
    "            'has_high_confidence': best_score >= search_engine.confidence_threshold\n",
    "        })\n",
    "    \n",
    "    return pd.DataFrame(results)"
   ]
  },
  {
   "cell_type": "code",
   "execution_count": 16,
   "id": "24272e39",
   "metadata": {},
   "outputs": [
    {
     "name": "stdout",
     "output_type": "stream",
     "text": [
      "Avaliando queries de teste...\n"
     ]
    }
   ],
   "source": [
    "# Avalia todas as queries\n",
    "print(\"Avaliando queries de teste...\")\n",
    "evaluation_results = evaluate_queries(df_queries, search_engine, top_k=5)"
   ]
  },
  {
   "cell_type": "code",
   "execution_count": 17,
   "id": "9143ab70",
   "metadata": {},
   "outputs": [
    {
     "name": "stdout",
     "output_type": "stream",
     "text": [
      "\n",
      "=== Métricas Gerais ===\n",
      "Precisão@5: 98.00%\n",
      "Queries com alta confiança (score ≥ 0.8): 56.67%\n",
      "Score médio (melhor resultado): 0.833\n",
      "\n",
      "Distribuição de ranks (quando encontrado):\n",
      "rank\n",
      "1    146\n",
      "2      1\n",
      "Name: count, dtype: int64\n"
     ]
    }
   ],
   "source": [
    "# Métricas gerais\n",
    "print(\"\\n=== Métricas Gerais ===\")\n",
    "print(f\"Precisão@5: {evaluation_results['found'].mean():.2%}\")\n",
    "print(f\"Queries com alta confiança (score ≥ 0.8): {evaluation_results['has_high_confidence'].mean():.2%}\")\n",
    "print(f\"Score médio (melhor resultado): {evaluation_results['best_score'].mean():.3f}\")\n",
    "print(f\"\\nDistribuição de ranks (quando encontrado):\")\n",
    "print(evaluation_results[evaluation_results['found']]['rank'].value_counts().sort_index())"
   ]
  },
  {
   "cell_type": "code",
   "execution_count": 18,
   "id": "4e323689",
   "metadata": {},
   "outputs": [
    {
     "name": "stdout",
     "output_type": "stream",
     "text": [
      "\n",
      "=== Métricas por Categoria ===\n",
      "\n",
      "TYPO:\n",
      "  Precisão@5: 100.00%\n",
      "  Alta confiança: 40.00%\n",
      "  Score médio: 0.731\n",
      "\n",
      "ABBREVIATION:\n",
      "  Precisão@5: 100.00%\n",
      "  Alta confiança: 100.00%\n",
      "  Score médio: 0.969\n",
      "\n",
      "CEP_WRONG:\n",
      "  Precisão@5: 97.78%\n",
      "  Alta confiança: 0.00%\n",
      "  Score médio: 0.682\n",
      "\n",
      "EMPTY_FIELDS:\n",
      "  Precisão@5: 86.67%\n",
      "  Alta confiança: 86.67%\n",
      "  Score médio: 0.951\n"
     ]
    }
   ],
   "source": [
    "# Métricas por categoria\n",
    "print(\"\\n=== Métricas por Categoria ===\")\n",
    "for category in evaluation_results['category'].unique():\n",
    "    cat_data = evaluation_results[evaluation_results['category'] == category]\n",
    "    print(f\"\\n{category.upper()}:\")\n",
    "    print(f\"  Precisão@5: {cat_data['found'].mean():.2%}\")\n",
    "    print(f\"  Alta confiança: {cat_data['has_high_confidence'].mean():.2%}\")\n",
    "    print(f\"  Score médio: {cat_data['best_score'].mean():.3f}\")"
   ]
  },
  {
   "cell_type": "markdown",
   "id": "80830059",
   "metadata": {},
   "source": [
    "## 6. Análise de Casos Específicos"
   ]
  },
  {
   "cell_type": "code",
   "execution_count": 19,
   "id": "8bdbabce",
   "metadata": {},
   "outputs": [
    {
     "name": "stdout",
     "output_type": "stream",
     "text": [
      "\n",
      "=== Exemplos Representativos ===\n",
      "\n",
      "============================================================\n",
      "CATEGORIA: CEP_WRONG\n",
      "============================================================\n",
      "\n",
      "Query: {'logradouro': 'Largo Dom Pedro II', 'bairro': 'Parque Europa', 'cidade': 'Aparecida de Goiânia', 'uf': 'GO', 'cep': '88490-104'}\n",
      "Esperado: {'logradouro': 'Largo Dom Pedro II', 'bairro': 'Parque Europa', 'cidade': 'Aparecida de Goiânia', 'uf': 'GO', 'cep': '73537-072'}\n",
      "\n",
      "Top-3 Resultados:\n",
      "  #1 [score=0.700, conf=medium]:\n",
      "      {'logradouro': 'Largo Dom Pedro II', 'bairro': 'Parque Europa', 'cidade': 'Aparecida de Goiânia', 'uf': 'GO', 'cep': '73537-072'}\n",
      "  #2 [score=0.400, conf=low]:\n",
      "      {'logradouro': 'Largo Dom Pedro II', 'bairro': 'Cidade Serra', 'cidade': 'Uberlândia', 'uf': 'MG', 'cep': '30733-185'}\n",
      "  #3 [score=0.400, conf=low]:\n",
      "      {'logradouro': 'Largo Dom Pedro II', 'bairro': 'Cidade São Francisco', 'cidade': 'Ribeirão Preto', 'uf': 'SP', 'cep': '01692-506'}\n",
      "\n",
      "\n",
      "Query: {'logradouro': 'Estrada Presidente Vargas', 'bairro': 'Parque do Sol', 'cidade': 'Foz do Iguaçu', 'uf': 'PR', 'cep': '40470-693'}\n",
      "Esperado: {'logradouro': 'Estrada Presidente Vargas', 'bairro': 'Parque do Sol', 'cidade': 'Foz do Iguaçu', 'uf': 'PR', 'cep': '80087-855'}\n",
      "\n",
      "Top-3 Resultados:\n",
      "  #1 [score=0.700, conf=medium]:\n",
      "      {'logradouro': 'Estrada Presidente Vargas', 'bairro': 'Parque do Sol', 'cidade': 'Foz do Iguaçu', 'uf': 'PR', 'cep': '80087-855'}\n",
      "  #2 [score=0.400, conf=low]:\n",
      "      {'logradouro': 'Estrada Presidente Vargas', 'bairro': 'Jardim Planalto', 'cidade': 'Sorocaba', 'uf': 'SP', 'cep': '01078-564'}\n",
      "  #3 [score=0.400, conf=low]:\n",
      "      {'logradouro': 'Estrada Presidente Vargas', 'bairro': 'Jardim Nova', 'cidade': 'Itajaí', 'uf': 'SC', 'cep': '88051-396'}\n",
      "\n",
      "\n",
      "\n",
      "============================================================\n",
      "CATEGORIA: ABBREVIATION\n",
      "============================================================\n",
      "\n",
      "Query: {'logradouro': 'Rodovia da Independência', 'bairro': 'Cidade da Lua', 'cidade': 'Pelotas', 'uf': 'RS', 'cep': '90442-935'}\n",
      "Esperado: {'logradouro': 'Rodovia da Independência', 'bairro': 'Cidade da Lua', 'cidade': 'Pelotas', 'uf': 'RS', 'cep': '90442-935'}\n",
      "\n",
      "Top-3 Resultados:\n",
      "  #1 [score=1.000, conf=high]:\n",
      "      {'logradouro': 'Rodovia da Independência', 'bairro': 'Cidade da Lua', 'cidade': 'Pelotas', 'uf': 'RS', 'cep': '90442-935'}\n",
      "  #2 [score=0.600, conf=medium]:\n",
      "      {'logradouro': 'Rodovia da Independência', 'bairro': 'Cidade da Lua', 'cidade': 'Londrina', 'uf': 'PR', 'cep': '80468-771'}\n",
      "  #3 [score=0.400, conf=low]:\n",
      "      {'logradouro': 'Rodovia da Independência', 'bairro': 'Parque Norte', 'cidade': 'Osasco', 'uf': 'SP', 'cep': '01484-168'}\n",
      "\n",
      "\n",
      "Query: {'logradouro': 'Largo C', 'bairro': 'das Árvores', 'cidade': 'Aparecida de Goiânia', 'uf': 'GO', 'cep': '73655-755'}\n",
      "Esperado: {'logradouro': 'Largo C', 'bairro': 'das Árvores', 'cidade': 'Aparecida de Goiânia', 'uf': 'GO', 'cep': '73655-755'}\n",
      "\n",
      "Top-3 Resultados:\n",
      "  #1 [score=0.900, conf=high]:\n",
      "      {'logradouro': 'Largo C', 'bairro': 'das Árvores', 'cidade': 'Aparecida de Goiânia', 'uf': 'GO', 'cep': '73655-755'}\n",
      "  #2 [score=0.400, conf=low]:\n",
      "      {'logradouro': 'Largo C', 'bairro': 'Vila do Sol', 'cidade': 'Crato', 'uf': 'CE', 'cep': '60820-616'}\n",
      "  #3 [score=0.400, conf=low]:\n",
      "      {'logradouro': 'Largo C', 'bairro': 'Cidade Leste', 'cidade': 'Gravataí', 'uf': 'RS', 'cep': '90818-685'}\n",
      "\n",
      "\n",
      "\n",
      "============================================================\n",
      "CATEGORIA: TYPO\n",
      "============================================================\n",
      "\n",
      "Query: {'logradouro': 'Rua São Jsoé', 'bairro': 'Vila do Sol', 'cidade': 'Campos dos Goytacazes', 'uf': 'RJ', 'cep': '20995-425'}\n",
      "Esperado: {'logradouro': 'Rua São José', 'bairro': 'Vila do Sol', 'cidade': 'Campos dos Goytacazes', 'uf': 'RJ', 'cep': '20995-425'}\n",
      "\n",
      "Top-3 Resultados:\n",
      "  #1 [score=0.645, conf=medium]:\n",
      "      {'logradouro': 'Rua São José', 'bairro': 'Vila do Sol', 'cidade': 'Campos dos Goytacazes', 'uf': 'RJ', 'cep': '20995-425'}\n",
      "  #2 [score=0.200, conf=low]:\n",
      "      {'logradouro': 'Beco Dom Pedro II', 'bairro': 'Vila do Sol', 'cidade': 'São Paulo', 'uf': 'SP', 'cep': '01505-523'}\n",
      "  #3 [score=0.200, conf=low]:\n",
      "      {'logradouro': 'Avenida Ipanema', 'bairro': 'Vila do Sol', 'cidade': 'Niterói', 'uf': 'RJ', 'cep': '20769-333'}\n",
      "\n",
      "\n",
      "Query: {'logradouro': 'Rua ds Palmeiras', 'bairro': 'Vila São Francisco', 'cidade': 'Feira de Santana', 'uf': 'BA', 'cep': '40240-065'}\n",
      "Esperado: {'logradouro': 'Rua das Palmeiras', 'bairro': 'Vila São Francisco', 'cidade': 'Feira de Santana', 'uf': 'BA', 'cep': '40240-065'}\n",
      "\n",
      "Top-3 Resultados:\n",
      "  #1 [score=0.652, conf=medium]:\n",
      "      {'logradouro': 'Rua das Palmeiras', 'bairro': 'Vila São Francisco', 'cidade': 'Feira de Santana', 'uf': 'BA', 'cep': '40240-065'}\n",
      "  #2 [score=0.200, conf=low]:\n",
      "      {'logradouro': 'Estrada A', 'bairro': 'Vila São Francisco', 'cidade': 'Porto Alegre', 'uf': 'RS', 'cep': '90836-109'}\n",
      "  #3 [score=0.200, conf=low]:\n",
      "      {'logradouro': 'Beco Amazonas', 'bairro': 'Vila São Francisco', 'cidade': 'Blumenau', 'uf': 'SC', 'cep': '88720-910'}\n",
      "\n",
      "\n",
      "\n",
      "============================================================\n",
      "CATEGORIA: EMPTY_FIELDS\n",
      "============================================================\n",
      "\n",
      "Query: {'logradouro': 'Alameda A', 'bairro': '', 'cidade': 'Caxias do Sul', 'uf': 'RS', 'cep': ''}\n",
      "Esperado: {'logradouro': 'Alameda A', 'bairro': 'Parque Norte', 'cidade': 'Caxias do Sul', 'uf': 'RS', 'cep': '90387-551'}\n",
      "\n",
      "Top-3 Resultados:\n",
      "  #1 [score=1.000, conf=high]:\n",
      "      {'logradouro': 'Alameda A', 'bairro': 'Parque Norte', 'cidade': 'Caxias do Sul', 'uf': 'RS', 'cep': '90387-551'}\n",
      "  #2 [score=0.733, conf=medium]:\n",
      "      {'logradouro': 'Alameda A', 'bairro': 'Vila Industrial', 'cidade': 'Luziânia', 'uf': 'GO', 'cep': '73203-010'}\n",
      "  #3 [score=0.733, conf=medium]:\n",
      "      {'logradouro': 'Alameda A', 'bairro': 'Conjunto dos Pássaros', 'cidade': 'Salvador', 'uf': 'BA', 'cep': '40378-726'}\n",
      "\n",
      "\n",
      "Query: {'logradouro': 'Largo Paulista', 'bairro': '', 'cidade': 'Cabo de Santo Agostinho', 'uf': 'PE', 'cep': ''}\n",
      "Esperado: {'logradouro': 'Largo Paulista', 'bairro': 'Conjunto Centro', 'cidade': 'Cabo de Santo Agostinho', 'uf': 'PE', 'cep': '50190-933'}\n",
      "\n",
      "Top-3 Resultados:\n",
      "  #1 [score=1.000, conf=high]:\n",
      "      {'logradouro': 'Largo Paulista', 'bairro': 'Conjunto Centro', 'cidade': 'Cabo de Santo Agostinho', 'uf': 'PE', 'cep': '50190-933'}\n",
      "  #2 [score=0.733, conf=medium]:\n",
      "      {'logradouro': 'Largo Paulista', 'bairro': 'Conjunto das Flores', 'cidade': 'Montes Claros', 'uf': 'MG', 'cep': '30209-893'}\n",
      "  #3 [score=0.733, conf=medium]:\n",
      "      {'logradouro': 'Largo Paulista', 'bairro': 'Jardim São Francisco', 'cidade': 'Joinville', 'uf': 'SC', 'cep': '88214-474'}\n",
      "\n",
      "\n"
     ]
    }
   ],
   "source": [
    "# Exemplos de cada categoria\n",
    "print(\"\\n=== Exemplos Representativos ===\")\n",
    "\n",
    "for category in ['cep_wrong', 'abbreviation', 'typo', 'empty_fields']:\n",
    "    print(f\"\\n{'='*60}\")\n",
    "    print(f\"CATEGORIA: {category.upper()}\")\n",
    "    print('='*60)\n",
    "    \n",
    "    # Pega 2 exemplos da categoria\n",
    "    cat_queries = df_queries[df_queries['category'] == category].head(2)\n",
    "    \n",
    "    for _, row in cat_queries.iterrows():\n",
    "        query = {\n",
    "            'logradouro': row['logradouro'],\n",
    "            'bairro': row['bairro'],\n",
    "            'cidade': row['cidade'],\n",
    "            'uf': row['uf'],\n",
    "            'cep': row['cep']\n",
    "        }\n",
    "        \n",
    "        expected = df_dne.iloc[row['expected_index']]\n",
    "        \n",
    "        print(f\"\\nQuery: {query}\")\n",
    "        print(f\"Esperado: {expected.to_dict()}\")\n",
    "        \n",
    "        result_json = search_engine.search(query, top_k=3)\n",
    "        result = json.loads(result_json)\n",
    "        \n",
    "        print(f\"\\nTop-3 Resultados:\")\n",
    "        for i, res in enumerate(result['results'], 1):\n",
    "            print(f\"  #{i} [score={res['score']:.3f}, conf={res['confidence']}]:\")\n",
    "            print(f\"      {res['address']}\")\n",
    "        print()\n",
    "    \n",
    "    print()"
   ]
  },
  {
   "cell_type": "markdown",
   "id": "8e73f673",
   "metadata": {},
   "source": [
    "## 7. Conclusões e Próximos Passos"
   ]
  },
  {
   "cell_type": "code",
   "execution_count": 20,
   "id": "6a05bc5f",
   "metadata": {},
   "outputs": [
    {
     "name": "stdout",
     "output_type": "stream",
     "text": [
      "\n",
      "======================================================================\n",
      "RESUMO DA POC: Busca Vetorial Multi-Campo para Enriquecimento de DNE\n",
      "======================================================================\n",
      "\n",
      "✅ IMPLEMENTADO:\n",
      "  - Embeddings multi-campo com rufimelo/bert-base-portuguese-cased-nli-assin-2\n",
      "  - Índices FAISS separados por campo (logradouro, bairro, cidade)\n",
      "  - Scoring dinâmico com pesos ajustados por query\n",
      "  - Normalização de texto (unidecode, abreviações, lowercase)\n",
      "  - Threshold de confiança 0.8 para sugestões de alta qualidade\n",
      "  - Retorno em JSON estruturado com scores por campo\n",
      "\n",
      "📊 RESULTADOS:\n",
      "  - Precisão@5 geral: 98.00%\n",
      "  - Queries com alta confiança: 56.67%\n",
      "  - Score médio: 0.833\n",
      "\n",
      "💡 VANTAGENS DA ABORDAGEM MULTI-CAMPO:\n",
      "  - Campos vazios não poluem o score geral\n",
      "  - CEP errado não elimina match de rua correta\n",
      "  - Sistema pode sugerir CEP correto quando outros campos têm score ≥ 0.8\n",
      "  - Pesos dinâmicos se adaptam aos campos disponíveis na query\n",
      "\n",
      "🎯 PRÓXIMOS PASSOS (se necessário):\n",
      "  1. Ajustar pesos baseado nos resultados de validação\n",
      "  2. Testar com dados reais do DNE (se disponível)\n",
      "  3. Implementar cache de embeddings para queries frequentes\n",
      "  4. Adicionar filtros geográficos (estado/cidade) para reduzir espaço de busca\n",
      "  5. Fine-tuning do modelo em dataset de endereços brasileiros\n",
      "\n",
      "======================================================================\n"
     ]
    }
   ],
   "source": [
    "print(\"\\n\" + \"=\"*70)\n",
    "print(\"RESUMO DA POC: Busca Vetorial Multi-Campo para Enriquecimento de DNE\")\n",
    "print(\"=\"*70)\n",
    "\n",
    "print(\"\\n✅ IMPLEMENTADO:\")\n",
    "print(\"  - Embeddings multi-campo com rufimelo/bert-base-portuguese-cased-nli-assin-2\")\n",
    "print(\"  - Índices FAISS separados por campo (logradouro, bairro, cidade)\")\n",
    "print(\"  - Scoring dinâmico com pesos ajustados por query\")\n",
    "print(\"  - Normalização de texto (unidecode, abreviações, lowercase)\")\n",
    "print(\"  - Threshold de confiança 0.8 para sugestões de alta qualidade\")\n",
    "print(\"  - Retorno em JSON estruturado com scores por campo\")\n",
    "\n",
    "print(\"\\n📊 RESULTADOS:\")\n",
    "print(f\"  - Precisão@5 geral: {evaluation_results['found'].mean():.2%}\")\n",
    "print(f\"  - Queries com alta confiança: {evaluation_results['has_high_confidence'].mean():.2%}\")\n",
    "print(f\"  - Score médio: {evaluation_results['best_score'].mean():.3f}\")\n",
    "\n",
    "print(\"\\n💡 VANTAGENS DA ABORDAGEM MULTI-CAMPO:\")\n",
    "print(\"  - Campos vazios não poluem o score geral\")\n",
    "print(\"  - CEP errado não elimina match de rua correta\")\n",
    "print(\"  - Sistema pode sugerir CEP correto quando outros campos têm score ≥ 0.8\")\n",
    "print(\"  - Pesos dinâmicos se adaptam aos campos disponíveis na query\")\n",
    "\n",
    "print(\"\\n🎯 PRÓXIMOS PASSOS (se necessário):\")\n",
    "print(\"  1. Ajustar pesos baseado nos resultados de validação\")\n",
    "print(\"  2. Testar com dados reais do DNE (se disponível)\")\n",
    "print(\"  3. Implementar cache de embeddings para queries frequentes\")\n",
    "print(\"  4. Adicionar filtros geográficos (estado/cidade) para reduzir espaço de busca\")\n",
    "print(\"  5. Fine-tuning do modelo em dataset de endereços brasileiros\")\n",
    "\n",
    "print(\"\\n\" + \"=\"*70)"
   ]
  }
 ],
 "metadata": {
  "kernelspec": {
   "display_name": "venv (3.12.0)",
   "language": "python",
   "name": "python3"
  },
  "language_info": {
   "codemirror_mode": {
    "name": "ipython",
    "version": 3
   },
   "file_extension": ".py",
   "mimetype": "text/x-python",
   "name": "python",
   "nbconvert_exporter": "python",
   "pygments_lexer": "ipython3",
   "version": "3.12.0"
  }
 },
 "nbformat": 4,
 "nbformat_minor": 5
}
